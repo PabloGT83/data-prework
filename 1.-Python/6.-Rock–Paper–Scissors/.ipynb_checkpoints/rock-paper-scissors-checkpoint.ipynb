{
 "cells": [
  {
   "cell_type": "markdown",
   "metadata": {},
   "source": [
    "<img src=\"https://bit.ly/2VnXWr2\" width=\"100\" align=\"left\">"
   ]
  },
  {
   "cell_type": "markdown",
   "metadata": {},
   "source": [
    "# Rock, Paper & Scissors\n",
    "\n",
    "Let's play the famous game against our computer. You can check the rules [here](https://en.wikipedia.org/wiki/Rock%E2%80%93paper%E2%80%93scissors). \n",
    "\n",
    "## Task\n",
    "Create a program that imitates the playability of the well known game of rock, paper, scissors. Follow the guidelines provided.\n",
    "\n",
    "## Tools\n",
    "1. Loop: **for/while**\n",
    "2. Functions: **input(), print()...**\n",
    "3. Conditional statements: **if, elif, else**\n",
    "4. Definition of functions. Modular programming\n",
    "5. Import modules\n",
    "\n",
    "**To solve this challenge, the use of functions is recommended.**\n",
    "\n",
    "#### 1. Import the choice function of the random module."
   ]
  },
  {
   "cell_type": "code",
   "execution_count": 2,
   "metadata": {},
   "outputs": [],
   "source": [
    "import random"
   ]
  },
  {
   "cell_type": "code",
   "execution_count": 3,
   "metadata": {},
   "outputs": [],
   "source": [
    "test_choice = [1,3,4,2,23,5,56,65,16]"
   ]
  },
  {
   "cell_type": "code",
   "execution_count": 4,
   "metadata": {},
   "outputs": [
    {
     "name": "stdout",
     "output_type": "stream",
     "text": [
      "16\n"
     ]
    }
   ],
   "source": [
    "print(random.choice(test_choice))"
   ]
  },
  {
   "cell_type": "markdown",
   "metadata": {},
   "source": [
    "#### 2. Create a list that includes the 3 possible gesture options of the game: 'rock', 'paper' or 'scissors'. Store the list in a variable called `gestures`."
   ]
  },
  {
   "cell_type": "code",
   "execution_count": 5,
   "metadata": {},
   "outputs": [],
   "source": [
    "gestures = [\"rock\",\"paper\",\"scissors\"]"
   ]
  },
  {
   "cell_type": "markdown",
   "metadata": {},
   "source": [
    "#### 3. Create a variable called `n_rounds` to store the maximum number of rounds to play in a game. \n",
    "Remember that the number of rounds must be odd: 1, 3, 5, ..."
   ]
  },
  {
   "cell_type": "code",
   "execution_count": 6,
   "metadata": {},
   "outputs": [],
   "source": [
    "n_rounds = 7\n",
    "n_rounds = int(n_rounds)"
   ]
  },
  {
   "cell_type": "markdown",
   "metadata": {},
   "source": [
    "#### 4. Create a variable called `rounds_to_win` to store the number of rounds that a player must win to win the game.\n",
    "**Hint**: the value stored in `rounds_to_win` depends on the value of `n_rounds`. "
   ]
  },
  {
   "cell_type": "code",
   "execution_count": 7,
   "metadata": {},
   "outputs": [
    {
     "name": "stdout",
     "output_type": "stream",
     "text": [
      "4.0\n"
     ]
    }
   ],
   "source": [
    "rounds_to_win = n_rounds - (n_rounds-1)/2\n",
    "print(rounds_to_win)"
   ]
  },
  {
   "cell_type": "markdown",
   "metadata": {},
   "source": [
    "#### 5. Create two variables to store the number of rounds that the computer and the player have won. Call these variables `cpu_score` and `player_score`."
   ]
  },
  {
   "cell_type": "code",
   "execution_count": 8,
   "metadata": {},
   "outputs": [],
   "source": [
    "cpu_score = 0\n",
    "player_score = 0\n",
    "cpu_score = int(cpu_score)\n",
    "player_score = int(player_score)"
   ]
  },
  {
   "cell_type": "markdown",
   "metadata": {},
   "source": [
    "#### 6. Define a function that randomly returns one of the 3 gesture options.\n",
    "You will use this function to simulate the gesture choice of the computer. "
   ]
  },
  {
   "cell_type": "code",
   "execution_count": 22,
   "metadata": {},
   "outputs": [
    {
     "name": "stdout",
     "output_type": "stream",
     "text": [
      "\n"
     ]
    }
   ],
   "source": [
    "computer_choice = \"\"\n",
    "\n",
    "def cpuchoice():\n",
    "    computer_choice = random.choice(gestures)\n",
    "    return computer_choice\n",
    "\n",
    "print(computer_choice)"
   ]
  },
  {
   "cell_type": "markdown",
   "metadata": {},
   "source": [
    "#### 7. Define a function that asks the player which is the gesture he or she wants to show: 'rock', 'paper' or 'scissors'.\n",
    "The player should only be allowed to choose one of the 3 gesture options. If the player's choice is not rock, paper or scissors, keep asking until it is."
   ]
  },
  {
   "cell_type": "code",
   "execution_count": 33,
   "metadata": {},
   "outputs": [
    {
     "name": "stdout",
     "output_type": "stream",
     "text": [
      "rock,paper,scissors?caca\n",
      "Please introduce a valid choice\n",
      "rock,paper,scissors?caca\n",
      "Please introduce a valid choice\n",
      "rock,paper,scissors?caca\n",
      "Please introduce a valid choice\n",
      "rock,paper,scissors?rock\n",
      "Lets play\n"
     ]
    },
    {
     "data": {
      "text/plain": [
       "'caca'"
      ]
     },
     "execution_count": 33,
     "metadata": {},
     "output_type": "execute_result"
    }
   ],
   "source": [
    "human_input = \"\"\n",
    "\n",
    "def human_choice():\n",
    "    human_input=input(\"rock,paper,scissors?\")\n",
    "    if human_input == \"rock\" or human_input == \"paper\" or human_input == \"scissors\":\n",
    "        print(\"Lets play\")    \n",
    "    else:\n",
    "        print(\"Please introduce a valid choice\")\n",
    "        human_choice()\n",
    "    return human_input\n",
    "\n",
    "human_choice()"
   ]
  },
  {
   "cell_type": "markdown",
   "metadata": {},
   "source": [
    "#### 8. Define a function that checks who won a round. \n",
    "The function should return 0 if there is a tie, 1 if the computer wins and 2 if the player wins."
   ]
  },
  {
   "cell_type": "code",
   "execution_count": 34,
   "metadata": {
    "scrolled": false
   },
   "outputs": [
    {
     "name": "stdout",
     "output_type": "stream",
     "text": [
      "The computer has chosen:  \n",
      "You have chosen:  \n",
      "Tie!\n"
     ]
    },
    {
     "data": {
      "text/plain": [
       "0"
      ]
     },
     "execution_count": 34,
     "metadata": {},
     "output_type": "execute_result"
    }
   ],
   "source": [
    "round_result = 0\n",
    "\n",
    "def current_round(): \n",
    "    global round_result\n",
    "    global player_score\n",
    "    global cpu_score\n",
    "    print(\"The computer has chosen: \",computer_choice)\n",
    "    print(\"You have chosen: \",human_input)\n",
    "    if computer_choice == human_input:\n",
    "        print(\"Tie!\")\n",
    "        round_result = 0\n",
    "    elif human_input == \"rock\":\n",
    "        if computer_choice == \"paper\":\n",
    "            print(\"You lose!\", computer_choice, \"covers\", human_input)\n",
    "            round_result = 1\n",
    "        else:\n",
    "            round_result = 2\n",
    "            print(\"You win!\", human_input, \"smashes\", computer_choice)\n",
    "    elif human_input == \"paper\":\n",
    "        if computer_choice == \"Scissors\":\n",
    "            round_result = 1\n",
    "            print(\"You lose!\", computer_choice, \"cut\", human_input)\n",
    "        else:\n",
    "            round_result = 2\n",
    "            print(\"You win!\", human_input, \"covers\", computer_choice)\n",
    "    elif human_input == \"Scissors\":\n",
    "        if computer_choice == \"Rock\":\n",
    "            print(\"You lose...\", computer_choice, \"smashes\", human_input)\n",
    "            round_result = 1\n",
    "        else:\n",
    "            round_result = 2\n",
    "            print(\"You win!\", human_input, \"cut\", computer_choice)    \n",
    "    return round_result\n",
    "    if round_result == 2:\n",
    "        player_score += 1\n",
    "        return player_score\n",
    "    elif round_result == 1: \n",
    "        cpu_score += 1\n",
    "        return cpu_score\n",
    "\n",
    "current_round()"
   ]
  },
  {
   "cell_type": "markdown",
   "metadata": {},
   "source": [
    "#### 9. Define a function that prints the choice of the computer, the choice of the player and a message that announces who won the current round. \n",
    "You should also use this function to update the variables that count the number of rounds that the computer and the player have won. The score of the winner increases by one point. If there is a tie, the score does not increase."
   ]
  },
  {
   "cell_type": "code",
   "execution_count": 35,
   "metadata": {},
   "outputs": [],
   "source": [
    "def current_game():\n",
    "    print(\"You have scored: \",player_score,\" out of \",n_rounds)\n",
    "    if player_score > cpu_score:\n",
    "        print(\"Congrats you have won!\")\n",
    "    else:\n",
    "        print(\"LOOOOOSER!\")"
   ]
  },
  {
   "cell_type": "code",
   "execution_count": 36,
   "metadata": {},
   "outputs": [
    {
     "name": "stdout",
     "output_type": "stream",
     "text": [
      "None None\n"
     ]
    }
   ],
   "source": [
    "print(cpu_score,player_score)"
   ]
  },
  {
   "cell_type": "markdown",
   "metadata": {},
   "source": [
    "#### 10. Now it's time to code the execution of the game using the functions and variables you defined above. \n",
    "\n",
    "First, create a loop structure that repeats while no player reaches the minimum score necessary to win and the number of rounds is less than the maximum number of rounds to play in a game.  \n",
    "\n",
    "Inside the loop, use the functions and variables above to create the execution of a round: ask for the player's choice, generate the random choice of the computer, show the round results, update the scores, etc. "
   ]
  },
  {
   "cell_type": "code",
   "execution_count": 44,
   "metadata": {},
   "outputs": [
    {
     "name": "stdout",
     "output_type": "stream",
     "text": [
      "rock,paper,scissors?paper\n",
      "Lets play\n",
      "The computer has chosen:  rock\n",
      "You have chosen:  paper\n",
      "You win! paper covers rock\n",
      "The computer has chosen:  rock\n",
      "You have chosen:  paper\n",
      "You win! paper covers rock\n",
      "rock,paper,scissors?rock\n",
      "Lets play\n",
      "The computer has chosen:  rock\n",
      "You have chosen:  rock\n",
      "Tie!\n",
      "The computer has chosen:  rock\n",
      "You have chosen:  rock\n",
      "Tie!\n",
      "rock,paper,scissors?scissors\n",
      "Lets play\n",
      "The computer has chosen:  rock\n",
      "You have chosen:  scissors\n",
      "The computer has chosen:  rock\n",
      "You have chosen:  scissors\n",
      "rock,paper,scissors?paper\n",
      "Lets play\n",
      "The computer has chosen:  paper\n",
      "You have chosen:  paper\n",
      "Tie!\n",
      "The computer has chosen:  paper\n",
      "You have chosen:  paper\n",
      "Tie!\n",
      "rock,paper,scissors?paper\n",
      "Lets play\n",
      "The computer has chosen:  paper\n",
      "You have chosen:  paper\n",
      "Tie!\n",
      "The computer has chosen:  paper\n",
      "You have chosen:  paper\n",
      "Tie!\n",
      "rock,paper,scissors?paper\n",
      "Lets play\n",
      "The computer has chosen:  rock\n",
      "You have chosen:  paper\n",
      "You win! paper covers rock\n",
      "The computer has chosen:  rock\n",
      "You have chosen:  paper\n",
      "You win! paper covers rock\n",
      "rock,paper,scissors?paper\n",
      "Lets play\n",
      "The computer has chosen:  rock\n",
      "You have chosen:  paper\n",
      "You win! paper covers rock\n",
      "The computer has chosen:  rock\n",
      "You have chosen:  paper\n",
      "You win! paper covers rock\n",
      "Game is completed\n",
      "You have scored:  2  out of  7\n",
      "LOOOOOSER!\n"
     ]
    }
   ],
   "source": [
    "cpu_score = 0\n",
    "player_score = 0\n",
    "\n",
    "while player_score < rounds_to_win and cpu_score < rounds_to_win:\n",
    "    for i in range(0, n_rounds):\n",
    "        human_input = human_choice()\n",
    "        computer_choice = cpuchoice()\n",
    "        round_result = round_alone()\n",
    "        player_score = current_round()\n",
    "        cpu_score = current_round()\n",
    "        i +=1\n",
    "    break\n",
    "print(\"Game is completed\")\n",
    "current_game()"
   ]
  },
  {
   "cell_type": "markdown",
   "metadata": {},
   "source": [
    "#### 11. Print the winner of the game based on who won more rounds.\n",
    "Remember that the game might be tied. "
   ]
  },
  {
   "cell_type": "code",
   "execution_count": 45,
   "metadata": {},
   "outputs": [
    {
     "name": "stdout",
     "output_type": "stream",
     "text": [
      "2 2\n"
     ]
    }
   ],
   "source": [
    "print(cpu_score,player_score)"
   ]
  },
  {
   "cell_type": "code",
   "execution_count": 46,
   "metadata": {},
   "outputs": [
    {
     "name": "stdout",
     "output_type": "stream",
     "text": [
      "7 4.0\n"
     ]
    }
   ],
   "source": [
    "print(n_rounds, rounds_to_win)"
   ]
  },
  {
   "cell_type": "markdown",
   "metadata": {},
   "source": [
    "# Bonus: Rock, Paper, Scissors, Lizard & Spock\n",
    "![](images/rpsls.jpg)\n",
    "\n",
    "In this challenge, you need to improve the previous game by adding two new options. To know more about the rules of the improved version of rock, paper, scissors, check this [link](http://www.samkass.com/theories/RPSSL.html). \n",
    "\n",
    "In addition, you will also need to improve how the game interacts with the player: the number of rounds to play, which must be an odd number, will be requested to the user until a valid number is entered. Define a new function to make that request.\n",
    "\n",
    "**Hint**: Try to reuse the code that you already coded in the previous challenge. If your code is efficient, this bonus will only consist of simple modifications to the original game."
   ]
  },
  {
   "cell_type": "code",
   "execution_count": null,
   "metadata": {},
   "outputs": [],
   "source": []
  }
 ],
 "metadata": {
  "kernelspec": {
   "display_name": "Python 3",
   "language": "python",
   "name": "python3"
  },
  "language_info": {
   "codemirror_mode": {
    "name": "ipython",
    "version": 3
   },
   "file_extension": ".py",
   "mimetype": "text/x-python",
   "name": "python",
   "nbconvert_exporter": "python",
   "pygments_lexer": "ipython3",
   "version": "3.8.5"
  }
 },
 "nbformat": 4,
 "nbformat_minor": 2
}
