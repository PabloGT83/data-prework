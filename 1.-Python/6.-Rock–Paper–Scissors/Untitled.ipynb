{
 "cells": [
  {
   "cell_type": "code",
   "execution_count": 1,
   "metadata": {
    "scrolled": true
   },
   "outputs": [
    {
     "name": "stdout",
     "output_type": "stream",
     "text": [
      "65\n"
     ]
    }
   ],
   "source": [
    "import random\n",
    "test_choice = [1,3,4,2,23,5,56,65,16]\n",
    "print(random.choice(test_choice))"
   ]
  },
  {
   "cell_type": "code",
   "execution_count": 17,
   "metadata": {},
   "outputs": [
    {
     "name": "stdout",
     "output_type": "stream",
     "text": [
      "2.0\n"
     ]
    }
   ],
   "source": [
    "gestures = [\"rock\",\"paper\",\"scissors\"]\n",
    "n_rounds = 3\n",
    "n_rounds = int(n_rounds)\n",
    "rounds_to_win = n_rounds - (n_rounds-1)/2\n",
    "print(rounds_to_win)\n",
    "cpu_score = 0\n",
    "player_score = 0\n",
    "\n"
   ]
  },
  {
   "cell_type": "code",
   "execution_count": 3,
   "metadata": {},
   "outputs": [
    {
     "name": "stdout",
     "output_type": "stream",
     "text": [
      "scissors\n"
     ]
    }
   ],
   "source": [
    "computer_choice = []\n",
    "\n",
    "def cpuchoice(computer_choice):\n",
    "    computer_choice = random.choice(gestures)\n",
    "    return computer_choice\n",
    "\n",
    "computer_choice = cpuchoice(computer_choice)\n",
    "    \n",
    "print(computer_choice)"
   ]
  },
  {
   "cell_type": "code",
   "execution_count": 4,
   "metadata": {},
   "outputs": [
    {
     "name": "stdout",
     "output_type": "stream",
     "text": [
      "rock,paper,scissors?rock\n",
      "Lets play\n"
     ]
    }
   ],
   "source": [
    "human_input = []\n",
    "\n",
    "def human_choice():\n",
    "    human_input = input(\"rock,paper,scissors?\")\n",
    "    if human_input == \"rock\" or human_input == \"paper\" or human_input == \"scissors\":\n",
    "        print(\"Lets play\")    \n",
    "    else:\n",
    "        print(\"Please introduce a valid choice\")\n",
    "    return human_input\n",
    "\n",
    "human_input = human_choice()"
   ]
  },
  {
   "cell_type": "code",
   "execution_count": 5,
   "metadata": {
    "scrolled": false
   },
   "outputs": [
    {
     "name": "stdout",
     "output_type": "stream",
     "text": [
      "2\n"
     ]
    }
   ],
   "source": [
    "round_result = 0\n",
    "\n",
    "def round_result():    \n",
    "    if computer_choice == human_input:\n",
    "        round_result = 0\n",
    "    elif human_input == \"rock\":\n",
    "        if computer_choice == \"paper\":\n",
    "            round_result = 1\n",
    "        else:\n",
    "            round_result = 2\n",
    "    elif human_input == \"paper\":\n",
    "        if computer_choice == \"Scissors\":\n",
    "            round_result = 1\n",
    "        else:\n",
    "            round_result = 2\n",
    "    elif human_input == \"Scissors\":\n",
    "        if computer_choice == \"Rock\":\n",
    "            round_result = 1\n",
    "        else:\n",
    "            print(\"You win!\", human_input, \"cut\", computer_choice)\n",
    "            round_result = 2\n",
    "    \n",
    "    return round_result        \n",
    "    \n",
    "round_result = round_result()\n",
    "print(round_result)"
   ]
  },
  {
   "cell_type": "code",
   "execution_count": 18,
   "metadata": {},
   "outputs": [
    {
     "name": "stdout",
     "output_type": "stream",
     "text": [
      "The computer has chosen:  scissors\n",
      "You have chosen:  rock\n",
      "You win! rock smashes scissors\n"
     ]
    },
    {
     "data": {
      "text/plain": [
       "1"
      ]
     },
     "execution_count": 18,
     "metadata": {},
     "output_type": "execute_result"
    }
   ],
   "source": [
    "def naming_round():\n",
    "    global player_score\n",
    "    global cpu_score\n",
    "    print(\"The computer has chosen: \",computer_choice)\n",
    "    print(\"You have chosen: \",human_input)\n",
    "    if computer_choice == human_input:\n",
    "        print(\"Tie!\")\n",
    "    elif human_input == \"rock\":\n",
    "        if computer_choice == \"paper\":\n",
    "            print(\"You lose!\", computer_choice, \"covers\", human_input)\n",
    "        else:\n",
    "            print(\"You win!\", human_input, \"smashes\", computer_choice)\n",
    "    elif human_input == \"paper\":\n",
    "        if computer_choice == \"Scissors\":\n",
    "            print(\"You lose!\", computer_choice, \"cut\", human_input)\n",
    "        else:\n",
    "            print(\"You win!\", human_input, \"covers\", computer_choice)\n",
    "    elif human_input == \"Scissors\":\n",
    "        if computer_choice == \"Rock\":\n",
    "            print(\"You lose...\", computer_choice, \"smashes\", human_input)\n",
    "        else:\n",
    "            print(\"You win!\", human_input, \"cut\", computer_choice)    \n",
    "    if round_result == 2:\n",
    "        player_score += 1\n",
    "        return player_score\n",
    "    elif round_result == 1: \n",
    "        cpu_score += 1\n",
    "        return computer_score\n",
    "    \n",
    "naming_round()"
   ]
  },
  {
   "cell_type": "code",
   "execution_count": 19,
   "metadata": {},
   "outputs": [
    {
     "name": "stdout",
     "output_type": "stream",
     "text": [
      "1\n"
     ]
    }
   ],
   "source": [
    "print(player_score)"
   ]
  },
  {
   "cell_type": "code",
   "execution_count": 21,
   "metadata": {},
   "outputs": [
    {
     "name": "stdout",
     "output_type": "stream",
     "text": [
      "0\n"
     ]
    }
   ],
   "source": [
    "print(cpu_score)"
   ]
  },
  {
   "cell_type": "code",
   "execution_count": null,
   "metadata": {},
   "outputs": [],
   "source": []
  }
 ],
 "metadata": {
  "kernelspec": {
   "display_name": "Python 3",
   "language": "python",
   "name": "python3"
  },
  "language_info": {
   "codemirror_mode": {
    "name": "ipython",
    "version": 3
   },
   "file_extension": ".py",
   "mimetype": "text/x-python",
   "name": "python",
   "nbconvert_exporter": "python",
   "pygments_lexer": "ipython3",
   "version": "3.8.5"
  }
 },
 "nbformat": 4,
 "nbformat_minor": 4
}
