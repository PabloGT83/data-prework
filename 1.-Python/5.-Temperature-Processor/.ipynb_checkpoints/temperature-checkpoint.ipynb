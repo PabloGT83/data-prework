{
 "cells": [
  {
   "cell_type": "markdown",
   "metadata": {},
   "source": [
    "<img src=\"https://bit.ly/2VnXWr2\" width=\"100\" align=\"left\">"
   ]
  },
  {
   "cell_type": "markdown",
   "metadata": {},
   "source": [
    "# Temperature Sensor\n",
    "\n",
    "There is a temperature sensor in the processor of your company's server. The company wants to analyze the data provided by the sensor to decide if they should change the cooling system for a better one. As changing the cooling system is expensive and you are an excellent data analyst, you can't make a decision without basis.\n",
    "\n",
    "## Tools\n",
    "You don't necessarily need to use all the tools. Maybe you opt to use some of them or completely different ones, they are given to help you shape the exercise. Programming exercises can be solved in many different ways.\n",
    "1. Data structures: **lists**\n",
    "2. Loops: **list comprehension**\n",
    "3. Functions: **min, max, print, len**\n",
    "4. Conditional statements: **if-elif-else**\n",
    "\n",
    "## Tasks\n",
    "The temperatures measured throughout the 24 hours of a day are:"
   ]
  },
  {
   "cell_type": "code",
   "execution_count": 1,
   "metadata": {},
   "outputs": [],
   "source": [
    "temperatures_C = [33, 66, 65, 0, 59, 60, 62, 64, 70, 76, 80, 81, 80, 83, 90, 79, 61, 53, 50, 49, 53, 48, 45, 39]"
   ]
  },
  {
   "cell_type": "markdown",
   "metadata": {},
   "source": [
    "The first element of the list is the temperature at 12am, the second element is the temperature at 1am, and so on. \n",
    "\n",
    "The company has decided that if one of the following events occurs, then the cooling system needs to be replaced for a new one to avoid damaging the processor.\n",
    "* More than 4 temperatures are greater than or equal to 70ºC.\n",
    "* Any temperature is above 80ºC.\n",
    "* The average temperature exceeds 65ºC.\n",
    "\n",
    "Follow the steps so that you can make the decision.\n",
    "\n",
    "#### 1. Find the minimum temperature of the day and store it in a variable."
   ]
  },
  {
   "cell_type": "code",
   "execution_count": 2,
   "metadata": {},
   "outputs": [
    {
     "name": "stdout",
     "output_type": "stream",
     "text": [
      "0\n"
     ]
    }
   ],
   "source": [
    "min_temp = min(temperatures_C)\n",
    "print(min_temp)"
   ]
  },
  {
   "cell_type": "markdown",
   "metadata": {},
   "source": [
    "#### 2. Find the maximum temperature of the day and store it in a variable."
   ]
  },
  {
   "cell_type": "code",
   "execution_count": 3,
   "metadata": {},
   "outputs": [
    {
     "name": "stdout",
     "output_type": "stream",
     "text": [
      "90\n"
     ]
    }
   ],
   "source": [
    "max_temp= max(temperatures_C)\n",
    "print(max_temp)"
   ]
  },
  {
   "cell_type": "markdown",
   "metadata": {},
   "source": [
    "#### 3. Create a list with the temperatures that are greater than or equal to 70ºC. Store it in a variable."
   ]
  },
  {
   "cell_type": "code",
   "execution_count": 4,
   "metadata": {},
   "outputs": [
    {
     "name": "stdout",
     "output_type": "stream",
     "text": [
      "[76, 80, 81, 80, 83, 90, 79]\n"
     ]
    }
   ],
   "source": [
    "over_70 = []\n",
    "\n",
    "x = 0\n",
    "\n",
    "for x in range(0,len(temperatures_C)):\n",
    "    if temperatures_C[x] > 70:\n",
    "        over_70.append(temperatures_C[x])\n",
    "        x +=1\n",
    "    else:\n",
    "        x +=1\n",
    "\n",
    "print(over_70)"
   ]
  },
  {
   "cell_type": "markdown",
   "metadata": {},
   "source": [
    "#### 4. Find the average temperature of the day and store it in a variable."
   ]
  },
  {
   "cell_type": "code",
   "execution_count": 5,
   "metadata": {},
   "outputs": [
    {
     "name": "stdout",
     "output_type": "stream",
     "text": [
      "60.25\n"
     ]
    }
   ],
   "source": [
    "import statistics\n",
    "mean_temp = statistics.mean(temperatures_C)\n",
    "print(mean_temp)"
   ]
  },
  {
   "cell_type": "markdown",
   "metadata": {},
   "source": [
    "#### 5. Imagine that there was a sensor failure at 3am and the data for that specific hour was not recorded. How would you estimate the missing value? Replace the current value of the list at 3am for an estimation. "
   ]
  },
  {
   "cell_type": "code",
   "execution_count": 6,
   "metadata": {},
   "outputs": [],
   "source": [
    "temperatures_C.remove(0)"
   ]
  },
  {
   "cell_type": "code",
   "execution_count": 7,
   "metadata": {},
   "outputs": [
    {
     "name": "stdout",
     "output_type": "stream",
     "text": [
      "['12:00 am', '1:00 am', '2:00 am', '3:00 am', '4:00 am', '5:00 am', '6:00 am', '7:00 am', '8:00 am', '9:00 am', '10:00 am', '11:00 am', '12:00 pm', '12:00 pm', '1:00 pm', '2:00 pm', '3:00 pm', '4:00 pm', '5:00 pm', '6:00 pm', '7:00 pm', '8:00 pm', '9:00 pm', '10:00 pm', '11:00 pm']\n",
      "62.87\n",
      "[33, 66, 65, 59, 60, 62, 64, 70, 76, 80, 81, 80, 83, 90, 79, 61, 53, 50, 49, 53, 48, 45, 39]\n",
      "[33, 66, 65, 62.87, 59, 60, 62, 64, 70, 76, 80, 81, 80, 83, 90, 79, 61, 53, 50, 49, 53, 48, 45, 39]\n",
      "{'12:00 am': 33, '1:00 am': 66, '2:00 am': 65, '3:00 am': 62.87, '4:00 am': 59, '5:00 am': 60, '6:00 am': 62, '7:00 am': 64, '8:00 am': 70, '9:00 am': 76, '10:00 am': 80, '11:00 am': 81, '12:00 pm': 83, '1:00 pm': 90, '2:00 pm': 79, '3:00 pm': 61, '4:00 pm': 53, '5:00 pm': 50, '6:00 pm': 49, '7:00 pm': 53, '8:00 pm': 48, '9:00 pm': 45, '10:00 pm': 39}\n"
     ]
    }
   ],
   "source": [
    "hours = [\"12:00 am\",\"1:00 am\",\"2:00 am\",\"3:00 am\",\"4:00 am\",\"5:00 am\",\"6:00 am\",\"7:00 am\",\"8:00 am\",\"9:00 am\",\"10:00 am\",\"11:00 am\",\"12:00 pm\"\n",
    ",\"12:00 pm\",\"1:00 pm\",\"2:00 pm\",\"3:00 pm\",\"4:00 pm\",\"5:00 pm\",\"6:00 pm\",\"7:00 pm\",\"8:00 pm\",\"9:00 pm\",\"10:00 pm\",\"11:00 pm\"]\n",
    "\n",
    "\n",
    "print(hours)\n",
    "\n",
    "mean_temp = statistics.mean(temperatures_C)\n",
    "print(round(mean_temp,2))\n",
    "print(temperatures_C)\n",
    "\n",
    "temperatures_C.insert(3,62.87)\n",
    "print(temperatures_C)\n",
    "\n",
    "daily_C = dict(zip(hours, temperatures_C))\n",
    "print(daily_C)"
   ]
  },
  {
   "cell_type": "markdown",
   "metadata": {},
   "source": [
    "#### 6. Bonus: the maintenance staff is from the United States and does not understand the international metric system. Help them by converting the temperatures from Celsius to Fahrenheit.\n",
    "To know more about temperature conversion check this [link](https://en.wikipedia.org/wiki/Conversion_of_units_of_temperature).\n",
    "\n",
    "**Formula**: \n",
    "\n",
    "$F = 1.8 * C + 32$"
   ]
  },
  {
   "cell_type": "code",
   "execution_count": 8,
   "metadata": {},
   "outputs": [
    {
     "name": "stdout",
     "output_type": "stream",
     "text": [
      "[91.4, 150.8, 149.0, 145.17, 138.2, 140.0, 143.6, 147.2, 158.0, 168.8, 176.0, 177.8, 176.0, 181.4, 194.0, 174.2, 141.8, 127.4, 122.0, 120.2, 127.4, 118.4, 113.0, 102.2]\n"
     ]
    }
   ],
   "source": [
    "temperatures_F = []\n",
    "\n",
    "for i in range(0,len(temperatures_C)):\n",
    "    temperatures_F.append(round((temperatures_C[i]*1.8)+32,2))\n",
    "    \n",
    "print(temperatures_F)"
   ]
  },
  {
   "cell_type": "code",
   "execution_count": null,
   "metadata": {},
   "outputs": [],
   "source": []
  },
  {
   "cell_type": "markdown",
   "metadata": {},
   "source": [
    "#### 7. Make a decision!\n",
    "Now it's time to make a decision taking into account what you have seen until now. \n",
    "\n",
    "Remember that if one of the following events occurs, then the cooling system needs to be replaced for a new one to avoid damaging the processor.\n",
    "* More than 4 temperatures are greater than or equal to 70ºC.\n",
    "* Any temperature is above 80ºC.\n",
    "* The average temperature exceeds 65ºC.\n",
    "\n",
    "#### To make your decision, check if any of the three conditions above is met. You might need to use some of the variables you created in steps 1 to 6. Print a message to show if the cooling system needs to be changed or not."
   ]
  },
  {
   "cell_type": "code",
   "execution_count": 30,
   "metadata": {},
   "outputs": [
    {
     "name": "stdout",
     "output_type": "stream",
     "text": [
      "Change the old crap\n"
     ]
    }
   ],
   "source": [
    "if len(over_70) >= 4 or max_temp > 80 or mean_temp > 65:\n",
    "    print(\"Change the old crap\")\n",
    "else:\n",
    "        print(\"We do not touch it\")"
   ]
  },
  {
   "cell_type": "markdown",
   "metadata": {},
   "source": [
    "## Bonus\n",
    "\n",
    "The company has decided that the decision you made is not valid. They want you to analyze the data again but this time, the conditions that need to be met in order to change the cooling system are different.\n",
    "\n",
    "This time, if one of the following events occurs, then the cooling system needs to be replaced:\n",
    "* The temperature is greater than 70ºC during more than 4 consecutive hours.\n",
    "* Any temperature is above 80ºC.\n",
    "* The average temperature exceeds 65ºC.\n",
    "\n",
    "Follow the steps so that you can make the decision.\n",
    "\n",
    "#### 1. Create a list with the hours where the temperature is greater than 70ºC. Store it in a variable."
   ]
  },
  {
   "cell_type": "code",
   "execution_count": 20,
   "metadata": {},
   "outputs": [
    {
     "name": "stdout",
     "output_type": "stream",
     "text": [
      "{'12:00 am': 33, '1:00 am': 66, '2:00 am': 65, '3:00 am': 62.87, '4:00 am': 59, '5:00 am': 60, '6:00 am': 62, '7:00 am': 64, '8:00 am': 70, '9:00 am': 76, '10:00 am': 80, '11:00 am': 81, '12:00 pm': 83, '1:00 pm': 90, '2:00 pm': 79, '3:00 pm': 61, '4:00 pm': 53, '5:00 pm': 50, '6:00 pm': 49, '7:00 pm': 53, '8:00 pm': 48, '9:00 pm': 45, '10:00 pm': 39}\n",
      "{0: 33, 1: 66, 2: 65, 3: 62.87, 4: 59, 5: 60, 6: 62, 7: 64, 8: 70, 9: 76, 10: 80, 11: 81, 12: 80, 13: 83, 14: 90, 15: 79, 16: 61, 17: 53, 18: 50, 19: 49, 20: 53, 21: 48, 22: 45, 23: 39}\n"
     ]
    }
   ],
   "source": [
    "print(daily_C)\n",
    "\n",
    "hours_n = [0,1,2,3,4,5,6,7,8,9,10,11,12,13,14,15,16,17,18,19,20,21,22,23]\n",
    "\n",
    "daily_C_n = dict(zip(hours_n, temperatures_C))\n",
    "print(daily_C_n)"
   ]
  },
  {
   "cell_type": "code",
   "execution_count": 21,
   "metadata": {},
   "outputs": [
    {
     "name": "stdout",
     "output_type": "stream",
     "text": [
      "[8, 9, 10, 11, 12, 13, 14, 15]\n"
     ]
    }
   ],
   "source": [
    "hours_over70 = []\n",
    "\n",
    "for k, v in daily_C_n.items():\n",
    "    if v >= 70:\n",
    "        hours_over70.append(k)\n",
    "print(hours_over70)\n",
    "\n"
   ]
  },
  {
   "cell_type": "markdown",
   "metadata": {},
   "source": [
    "#### 2. Check if the list you created in step 1 has more than 4 consecutive hours. "
   ]
  },
  {
   "cell_type": "code",
   "execution_count": 23,
   "metadata": {},
   "outputs": [
    {
     "name": "stdout",
     "output_type": "stream",
     "text": [
      "The number of conscutive hours over 70 is: 7\n"
     ]
    }
   ],
   "source": [
    "count_con = 0    \n",
    "    \n",
    "for i in range(0,len(hours_over70)-1):\n",
    "    if hours_over70[i+1] - hours_over70[i] == 1:\n",
    "        count_con +=1\n",
    "print(\"The number of conscutive hours over 70 is:\",count_con)"
   ]
  },
  {
   "cell_type": "markdown",
   "metadata": {},
   "source": [
    "#### 3. Make the decision!\n",
    "To make your decision, check if any of the three conditions is met. Print a message to show if the cooling system needs to be changed or not."
   ]
  },
  {
   "cell_type": "code",
   "execution_count": 31,
   "metadata": {},
   "outputs": [
    {
     "name": "stdout",
     "output_type": "stream",
     "text": [
      "Change the old crap\n"
     ]
    }
   ],
   "source": [
    "if count_con >= 4 or max_temp > 80 or mean_temp > 65:\n",
    "    print(\"Change the old crap\")\n",
    "else:\n",
    "        print(\"We do not touch it\")"
   ]
  },
  {
   "cell_type": "markdown",
   "metadata": {},
   "source": [
    "#### 4. Find the average value of the temperature lists (ºC and ºF). What is the relation between both average values?"
   ]
  },
  {
   "cell_type": "code",
   "execution_count": 27,
   "metadata": {},
   "outputs": [
    {
     "name": "stdout",
     "output_type": "stream",
     "text": [
      "62.87\n",
      "145.17\n",
      "0.43\n"
     ]
    }
   ],
   "source": [
    "mean_temp = statistics.mean(temperatures_C)\n",
    "mean_temp_F = statistics.mean(temperatures_F)\n",
    "print(round(mean_temp,2))\n",
    "print(round(mean_temp_F,2))\n",
    "ratio_mean = mean_temp/mean_temp_F\n",
    "print(round((ratio_mean),2))"
   ]
  },
  {
   "cell_type": "markdown",
   "metadata": {},
   "source": [
    "#### 5. Find the standard deviation of the temperature lists (ºC and ºF). What is the relation between both standard deviations?"
   ]
  },
  {
   "cell_type": "code",
   "execution_count": 28,
   "metadata": {},
   "outputs": [
    {
     "name": "stdout",
     "output_type": "stream",
     "text": [
      "14.95\n",
      "26.9\n",
      "0.56\n"
     ]
    }
   ],
   "source": [
    "std_temp = statistics.stdev(temperatures_C)\n",
    "std_temp_F = statistics.stdev(temperatures_F)\n",
    "print(round(std_temp,2))\n",
    "print(round(std_temp_F,2))\n",
    "ratio_std = std_temp/std_temp_F\n",
    "print(round((ratio_std),2))"
   ]
  },
  {
   "cell_type": "code",
   "execution_count": null,
   "metadata": {},
   "outputs": [],
   "source": []
  }
 ],
 "metadata": {
  "kernelspec": {
   "display_name": "Python 3",
   "language": "python",
   "name": "python3"
  },
  "language_info": {
   "codemirror_mode": {
    "name": "ipython",
    "version": 3
   },
   "file_extension": ".py",
   "mimetype": "text/x-python",
   "name": "python",
   "nbconvert_exporter": "python",
   "pygments_lexer": "ipython3",
   "version": "3.8.5"
  }
 },
 "nbformat": 4,
 "nbformat_minor": 2
}
