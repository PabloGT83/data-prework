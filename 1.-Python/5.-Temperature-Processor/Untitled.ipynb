{
 "cells": [
  {
   "cell_type": "code",
   "execution_count": 1,
   "metadata": {},
   "outputs": [
    {
     "name": "stdout",
     "output_type": "stream",
     "text": [
      "0\n",
      "90\n",
      "[70, 76, 80, 81, 80, 83, 90, 79]\n",
      "60.25\n"
     ]
    }
   ],
   "source": [
    "temperatures_C = [33, 66, 65, 0, 59, 60, 62, 64, 70, 76, 80, 81, 80, 83, 90, 79, 61, 53, 50, 49, 53, 48, 45, 39]\n",
    "\n",
    "min_temp = min(temperatures_C)\n",
    "print(min_temp)\n",
    "\n",
    "max_temp= max(temperatures_C)\n",
    "print(max_temp)\n",
    "\n",
    "over_70 = []\n",
    "\n",
    "x = 0\n",
    "\n",
    "for x in range(0,len(temperatures_C)):\n",
    "    if temperatures_C[x] >= 70:\n",
    "        over_70.append(temperatures_C[x])\n",
    "        x +=1\n",
    "    else:\n",
    "        x +=1\n",
    "\n",
    "print(over_70)\n",
    "\n",
    "import statistics\n",
    "mean_temp = statistics.mean(temperatures_C)\n",
    "print(mean_temp)\n"
   ]
  },
  {
   "cell_type": "code",
   "execution_count": 2,
   "metadata": {},
   "outputs": [],
   "source": [
    "hours = [\"12:00 am\",\"1:00 am\",\"2:00 am\",\"3:00 am\",\"4:00 am\",\"5:00 am\",\"6:00 am\",\"7:00 am\",\"8:00 am\",\"9:00 am\",\"10:00 am\",\"11:00 am\",\"12:00 pm\"\n",
    ",\"12:00 pm\",\"1:00 pm\",\"2:00 pm\",\"3:00 pm\",\"4:00 pm\",\"5:00 pm\",\"6:00 pm\",\"7:00 pm\",\"8:00 pm\",\"9:00 pm\",\"10:00 pm\",\"11:00 pm\"]"
   ]
  },
  {
   "cell_type": "code",
   "execution_count": 3,
   "metadata": {
    "scrolled": true
   },
   "outputs": [
    {
     "name": "stdout",
     "output_type": "stream",
     "text": [
      "['12:00 am', '1:00 am', '2:00 am', '3:00 am', '4:00 am', '5:00 am', '6:00 am', '7:00 am', '8:00 am', '9:00 am', '10:00 am', '11:00 am', '12:00 pm', '12:00 pm', '1:00 pm', '2:00 pm', '3:00 pm', '4:00 pm', '5:00 pm', '6:00 pm', '7:00 pm', '8:00 pm', '9:00 pm', '10:00 pm', '11:00 pm']\n"
     ]
    }
   ],
   "source": [
    "print(hours)"
   ]
  },
  {
   "cell_type": "code",
   "execution_count": null,
   "metadata": {},
   "outputs": [],
   "source": [
    "temperatures_C.remove(0)\n"
   ]
  },
  {
   "cell_type": "code",
   "execution_count": 6,
   "metadata": {},
   "outputs": [
    {
     "name": "stdout",
     "output_type": "stream",
     "text": [
      "62.87\n",
      "[33, 66, 65, 59, 60, 62, 64, 70, 76, 80, 81, 80, 83, 90, 79, 61, 53, 50, 49, 53, 48, 45, 39]\n"
     ]
    }
   ],
   "source": [
    "mean_temp = statistics.mean(temperatures_C)\n",
    "print(round(mean_temp,2))\n",
    "print(temperatures_C)"
   ]
  },
  {
   "cell_type": "code",
   "execution_count": 7,
   "metadata": {},
   "outputs": [
    {
     "name": "stdout",
     "output_type": "stream",
     "text": [
      "[33, 66, 65, 62.87, 59, 60, 62, 64, 70, 76, 80, 81, 80, 83, 90, 79, 61, 53, 50, 49, 53, 48, 45, 39]\n"
     ]
    }
   ],
   "source": [
    "temperatures_C.insert(3,62.87)\n",
    "print(temperatures_C)"
   ]
  },
  {
   "cell_type": "code",
   "execution_count": 8,
   "metadata": {},
   "outputs": [
    {
     "name": "stdout",
     "output_type": "stream",
     "text": [
      "{'12:00 am': 33, '1:00 am': 66, '2:00 am': 65, '3:00 am': 62.87, '4:00 am': 59, '5:00 am': 60, '6:00 am': 62, '7:00 am': 64, '8:00 am': 70, '9:00 am': 76, '10:00 am': 80, '11:00 am': 81, '12:00 pm': 83, '1:00 pm': 90, '2:00 pm': 79, '3:00 pm': 61, '4:00 pm': 53, '5:00 pm': 50, '6:00 pm': 49, '7:00 pm': 53, '8:00 pm': 48, '9:00 pm': 45, '10:00 pm': 39}\n"
     ]
    }
   ],
   "source": [
    "daily_C = dict(zip(hours, temperatures_C))\n",
    "print(daily_C)"
   ]
  },
  {
   "cell_type": "code",
   "execution_count": 9,
   "metadata": {},
   "outputs": [
    {
     "name": "stdout",
     "output_type": "stream",
     "text": [
      "[33, 66, 65, 62.87, 59, 60, 62, 64, 70, 76, 80, 81, 80, 83, 90, 79, 61, 53, 50, 49, 53, 48, 45, 39]\n"
     ]
    }
   ],
   "source": [
    "print(temperatures_C)"
   ]
  },
  {
   "cell_type": "code",
   "execution_count": 15,
   "metadata": {},
   "outputs": [
    {
     "name": "stdout",
     "output_type": "stream",
     "text": [
      "[91.4, 150.8, 149.0, 145.17, 138.2, 140.0, 143.6, 147.2, 158.0, 168.8, 176.0, 177.8, 176.0, 181.4, 194.0, 174.2, 141.8, 127.4, 122.0, 120.2, 127.4, 118.4, 113.0, 102.2]\n"
     ]
    }
   ],
   "source": [
    "temperatures_F = []\n",
    "\n",
    "for i in range(0,len(temperatures_C)):\n",
    "    temperatures_F.append(round((temperatures_C[i]*1.8)+32,2))\n",
    "    \n",
    "print(temperatures_F)"
   ]
  },
  {
   "cell_type": "code",
   "execution_count": 17,
   "metadata": {},
   "outputs": [
    {
     "name": "stdout",
     "output_type": "stream",
     "text": [
      "Change the old crap\n"
     ]
    }
   ],
   "source": [
    "if len(over_70) > 4 or max_temp > 80 or mean_temp > 65:\n",
    "    print(\"Change the old crap\")\n",
    "else:\n",
    "        print(\"We do not touch it\")"
   ]
  },
  {
   "cell_type": "code",
   "execution_count": 18,
   "metadata": {},
   "outputs": [
    {
     "name": "stdout",
     "output_type": "stream",
     "text": [
      "{'12:00 am': 33, '1:00 am': 66, '2:00 am': 65, '3:00 am': 62.87, '4:00 am': 59, '5:00 am': 60, '6:00 am': 62, '7:00 am': 64, '8:00 am': 70, '9:00 am': 76, '10:00 am': 80, '11:00 am': 81, '12:00 pm': 83, '1:00 pm': 90, '2:00 pm': 79, '3:00 pm': 61, '4:00 pm': 53, '5:00 pm': 50, '6:00 pm': 49, '7:00 pm': 53, '8:00 pm': 48, '9:00 pm': 45, '10:00 pm': 39}\n"
     ]
    }
   ],
   "source": [
    "print(daily_C)"
   ]
  },
  {
   "cell_type": "code",
   "execution_count": 22,
   "metadata": {},
   "outputs": [
    {
     "name": "stdout",
     "output_type": "stream",
     "text": [
      "['8:00 am', '9:00 am', '10:00 am', '11:00 am', '12:00 pm', '1:00 pm', '2:00 pm']\n"
     ]
    }
   ],
   "source": [
    "\n",
    "hours_over70 = []\n",
    "\n",
    "for k, v in daily_C.items():\n",
    "    if v >= 70:\n",
    "        hours_over70.append(k)\n",
    "print(hours_over70)"
   ]
  },
  {
   "cell_type": "code",
   "execution_count": null,
   "metadata": {},
   "outputs": [],
   "source": []
  }
 ],
 "metadata": {
  "kernelspec": {
   "display_name": "Python 3",
   "language": "python",
   "name": "python3"
  },
  "language_info": {
   "codemirror_mode": {
    "name": "ipython",
    "version": 3
   },
   "file_extension": ".py",
   "mimetype": "text/x-python",
   "name": "python",
   "nbconvert_exporter": "python",
   "pygments_lexer": "ipython3",
   "version": "3.8.5"
  }
 },
 "nbformat": 4,
 "nbformat_minor": 4
}
