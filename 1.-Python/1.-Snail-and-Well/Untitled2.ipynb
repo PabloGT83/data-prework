{
 "cells": [
  {
   "cell_type": "code",
   "execution_count": 2,
   "metadata": {},
   "outputs": [
    {
     "name": "stdout",
     "output_type": "stream",
     "text": [
      "1\n",
      "2\n",
      "3\n",
      "4\n",
      "5\n",
      "6\n",
      "7\n",
      "8\n",
      "9\n",
      "10\n",
      "11\n",
      "12\n",
      "13\n",
      "Congratulations! the snail escaped in 13 days\n"
     ]
    }
   ],
   "source": [
    "well = 125\n",
    "cmPerDay = 30\n",
    "cmPerNight = -20\n",
    "snailHasNotEscaped = True\n",
    "days = 0\n",
    "totalCMs = 0\n",
    "\n",
    "cmPerWholeDay = cmPerDay + cmPerNight\n",
    "\n",
    "while snailHasNotEscaped:\n",
    "   totalCMs += cmPerWholeDay\n",
    "   days += 1\n",
    "   print(days)\n",
    "   if totalCMs >= well:\n",
    "      snailHasNotEscaped = False\n",
    "\n",
    "print(\"Congratulations! the snail escaped in\", days, \"days\")"
   ]
  },
  {
   "cell_type": "code",
   "execution_count": null,
   "metadata": {},
   "outputs": [],
   "source": []
  }
 ],
 "metadata": {
  "kernelspec": {
   "display_name": "Python 3",
   "language": "python",
   "name": "python3"
  },
  "language_info": {
   "codemirror_mode": {
    "name": "ipython",
    "version": 3
   },
   "file_extension": ".py",
   "mimetype": "text/x-python",
   "name": "python",
   "nbconvert_exporter": "python",
   "pygments_lexer": "ipython3",
   "version": "3.8.5"
  }
 },
 "nbformat": 4,
 "nbformat_minor": 4
}
