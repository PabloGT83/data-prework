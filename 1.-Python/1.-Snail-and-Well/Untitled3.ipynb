{
 "cells": [
  {
   "cell_type": "code",
   "execution_count": 1,
   "metadata": {},
   "outputs": [
    {
     "name": "stdout",
     "output_type": "stream",
     "text": [
      "The number of days is 13\n"
     ]
    }
   ],
   "source": [
    "well_height = 125\n",
    "daily_distance = 30\n",
    "nightly_distance = 20\n",
    "snail_position = 0\n",
    "snail_position2 = 0\n",
    "\n",
    "days = 0\n",
    "daysbonus = 0\n",
    "\n",
    "while snail_position <= well_height:\n",
    "    snail_position += daily_distance - nightly_distance\n",
    "    days+=1\n",
    "    \n",
    "print(\"The number of days is\",days)\n",
    "\n"
   ]
  },
  {
   "cell_type": "code",
   "execution_count": 3,
   "metadata": {},
   "outputs": [
    {
     "name": "stdout",
     "output_type": "stream",
     "text": [
      "[10, 1, 13, 57, 24, 25, 3, 25, -8, 14, 35]\n"
     ]
    }
   ],
   "source": [
    "advance_cm = [30, 21, 33, 77, 44, 45, 23, 45, 12, 34, 55]\n",
    "retro_cm = [20, 20, 20, 20, 20, 20, 20, 20, 20, 20, 20]\n",
    "difference = [advance_cm[i] - retro_cm[i] for i in range(len(advance_cm))]\n",
    "print(difference)"
   ]
  },
  {
   "cell_type": "code",
   "execution_count": null,
   "metadata": {},
   "outputs": [],
   "source": []
  },
  {
   "cell_type": "code",
   "execution_count": 4,
   "metadata": {},
   "outputs": [
    {
     "name": "stdout",
     "output_type": "stream",
     "text": [
      "The number of days is 6\n",
      "130\n"
     ]
    }
   ],
   "source": [
    "while snail_position2 <= well_height:\n",
    "    for i in difference:\n",
    "        snail_position2 +=i\n",
    "        daysbonus+=1\n",
    "        if snail_position2 > well_height:\n",
    "            break \n",
    "    \n",
    "print(\"The number of days is\",daysbonus)\n",
    "print(snail_position2)\n",
    "  "
   ]
  },
  {
   "cell_type": "code",
   "execution_count": 14,
   "metadata": {},
   "outputs": [
    {
     "data": {
      "text/plain": [
       "3"
      ]
     },
     "execution_count": 14,
     "metadata": {},
     "output_type": "execute_result"
    }
   ],
   "source": [
    "difference.index(max(difference))"
   ]
  },
  {
   "cell_type": "code",
   "execution_count": 16,
   "metadata": {},
   "outputs": [],
   "source": [
    "difference2 = [10, 1, 13, 57, 24, 25]"
   ]
  },
  {
   "cell_type": "code",
   "execution_count": 19,
   "metadata": {},
   "outputs": [
    {
     "data": {
      "text/plain": [
       "57"
      ]
     },
     "execution_count": 19,
     "metadata": {},
     "output_type": "execute_result"
    }
   ],
   "source": [
    "max(difference2)"
   ]
  },
  {
   "cell_type": "code",
   "execution_count": null,
   "metadata": {},
   "outputs": [],
   "source": []
  }
 ],
 "metadata": {
  "kernelspec": {
   "display_name": "Python 3",
   "language": "python",
   "name": "python3"
  },
  "language_info": {
   "codemirror_mode": {
    "name": "ipython",
    "version": 3
   },
   "file_extension": ".py",
   "mimetype": "text/x-python",
   "name": "python",
   "nbconvert_exporter": "python",
   "pygments_lexer": "ipython3",
   "version": "3.8.5"
  }
 },
 "nbformat": 4,
 "nbformat_minor": 4
}
